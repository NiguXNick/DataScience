{
 "cells": [
  {
   "cell_type": "markdown",
   "id": "58bb21aa-b3f8-4fb7-8871-4775b33aef6c",
   "metadata": {},
   "source": [
    "<h2> Filter-Based Feature Selection"
   ]
  },
  {
   "cell_type": "markdown",
   "id": "9d45d99e-1f77-4234-a705-a9999ab7b650",
   "metadata": {},
   "source": [
    "<h3> Database"
   ]
  },
  {
   "cell_type": "code",
   "execution_count": 24,
   "id": "758e84d8-e257-48c7-88c8-550d3639786a",
   "metadata": {},
   "outputs": [],
   "source": [
    "import pandas as pd\n",
    "import numpy as np\n",
    "from sklearn import model_selection\n",
    "import matplotlib.pyplot as plt"
   ]
  },
  {
   "cell_type": "code",
   "execution_count": 25,
   "id": "6dad98a8-f278-4769-bd9d-eb2953d48dda",
   "metadata": {},
   "outputs": [],
   "source": [
    "ds = pd.read_csv(\"drebin.csv\", low_memory=False)"
   ]
  },
  {
   "cell_type": "code",
   "execution_count": 26,
   "id": "ac8a6641-140e-4e6e-b5ac-55ac32a52717",
   "metadata": {},
   "outputs": [
    {
     "data": {
      "text/html": [
       "<div>\n",
       "<style scoped>\n",
       "    .dataframe tbody tr th:only-of-type {\n",
       "        vertical-align: middle;\n",
       "    }\n",
       "\n",
       "    .dataframe tbody tr th {\n",
       "        vertical-align: top;\n",
       "    }\n",
       "\n",
       "    .dataframe thead th {\n",
       "        text-align: right;\n",
       "    }\n",
       "</style>\n",
       "<table border=\"1\" class=\"dataframe\">\n",
       "  <thead>\n",
       "    <tr style=\"text-align: right;\">\n",
       "      <th></th>\n",
       "      <th>SEND_SMS</th>\n",
       "      <th>READ_PHONE_STATE</th>\n",
       "      <th>GET_ACCOUNTS</th>\n",
       "      <th>RECEIVE_SMS</th>\n",
       "      <th>READ_SMS</th>\n",
       "      <th>USE_CREDENTIALS</th>\n",
       "      <th>MANAGE_ACCOUNTS</th>\n",
       "      <th>WRITE_SMS</th>\n",
       "      <th>READ_SYNC_SETTINGS</th>\n",
       "      <th>AUTHENTICATE_ACCOUNTS</th>\n",
       "      <th>...</th>\n",
       "      <th>READ_CONTACTS</th>\n",
       "      <th>DEVICE_POWER</th>\n",
       "      <th>HARDWARE_TEST</th>\n",
       "      <th>ACCESS_WIFI_STATE</th>\n",
       "      <th>WRITE_EXTERNAL_STORAGE</th>\n",
       "      <th>ACCESS_FINE_LOCATION</th>\n",
       "      <th>SET_WALLPAPER_HINTS</th>\n",
       "      <th>SET_PREFERRED_APPLICATIONS</th>\n",
       "      <th>WRITE_SECURE_SETTINGS</th>\n",
       "      <th>class</th>\n",
       "    </tr>\n",
       "  </thead>\n",
       "  <tbody>\n",
       "    <tr>\n",
       "      <th>0</th>\n",
       "      <td>1</td>\n",
       "      <td>1</td>\n",
       "      <td>0</td>\n",
       "      <td>0</td>\n",
       "      <td>0</td>\n",
       "      <td>0</td>\n",
       "      <td>0</td>\n",
       "      <td>0</td>\n",
       "      <td>0</td>\n",
       "      <td>0</td>\n",
       "      <td>...</td>\n",
       "      <td>0</td>\n",
       "      <td>0</td>\n",
       "      <td>0</td>\n",
       "      <td>0</td>\n",
       "      <td>1</td>\n",
       "      <td>0</td>\n",
       "      <td>0</td>\n",
       "      <td>0</td>\n",
       "      <td>0</td>\n",
       "      <td>1</td>\n",
       "    </tr>\n",
       "    <tr>\n",
       "      <th>1</th>\n",
       "      <td>1</td>\n",
       "      <td>1</td>\n",
       "      <td>0</td>\n",
       "      <td>1</td>\n",
       "      <td>1</td>\n",
       "      <td>0</td>\n",
       "      <td>0</td>\n",
       "      <td>0</td>\n",
       "      <td>0</td>\n",
       "      <td>0</td>\n",
       "      <td>...</td>\n",
       "      <td>0</td>\n",
       "      <td>0</td>\n",
       "      <td>0</td>\n",
       "      <td>0</td>\n",
       "      <td>1</td>\n",
       "      <td>0</td>\n",
       "      <td>0</td>\n",
       "      <td>0</td>\n",
       "      <td>0</td>\n",
       "      <td>1</td>\n",
       "    </tr>\n",
       "    <tr>\n",
       "      <th>2</th>\n",
       "      <td>1</td>\n",
       "      <td>1</td>\n",
       "      <td>0</td>\n",
       "      <td>0</td>\n",
       "      <td>0</td>\n",
       "      <td>0</td>\n",
       "      <td>0</td>\n",
       "      <td>0</td>\n",
       "      <td>0</td>\n",
       "      <td>0</td>\n",
       "      <td>...</td>\n",
       "      <td>0</td>\n",
       "      <td>0</td>\n",
       "      <td>0</td>\n",
       "      <td>0</td>\n",
       "      <td>0</td>\n",
       "      <td>0</td>\n",
       "      <td>0</td>\n",
       "      <td>0</td>\n",
       "      <td>0</td>\n",
       "      <td>1</td>\n",
       "    </tr>\n",
       "    <tr>\n",
       "      <th>3</th>\n",
       "      <td>0</td>\n",
       "      <td>1</td>\n",
       "      <td>0</td>\n",
       "      <td>0</td>\n",
       "      <td>1</td>\n",
       "      <td>0</td>\n",
       "      <td>0</td>\n",
       "      <td>1</td>\n",
       "      <td>0</td>\n",
       "      <td>0</td>\n",
       "      <td>...</td>\n",
       "      <td>0</td>\n",
       "      <td>0</td>\n",
       "      <td>0</td>\n",
       "      <td>1</td>\n",
       "      <td>1</td>\n",
       "      <td>1</td>\n",
       "      <td>0</td>\n",
       "      <td>0</td>\n",
       "      <td>0</td>\n",
       "      <td>1</td>\n",
       "    </tr>\n",
       "    <tr>\n",
       "      <th>4</th>\n",
       "      <td>0</td>\n",
       "      <td>1</td>\n",
       "      <td>0</td>\n",
       "      <td>0</td>\n",
       "      <td>0</td>\n",
       "      <td>0</td>\n",
       "      <td>0</td>\n",
       "      <td>0</td>\n",
       "      <td>0</td>\n",
       "      <td>0</td>\n",
       "      <td>...</td>\n",
       "      <td>0</td>\n",
       "      <td>0</td>\n",
       "      <td>0</td>\n",
       "      <td>1</td>\n",
       "      <td>0</td>\n",
       "      <td>1</td>\n",
       "      <td>0</td>\n",
       "      <td>0</td>\n",
       "      <td>0</td>\n",
       "      <td>1</td>\n",
       "    </tr>\n",
       "  </tbody>\n",
       "</table>\n",
       "<p>5 rows × 114 columns</p>\n",
       "</div>"
      ],
      "text/plain": [
       "   SEND_SMS  READ_PHONE_STATE  GET_ACCOUNTS  RECEIVE_SMS  READ_SMS  \\\n",
       "0         1                 1             0            0         0   \n",
       "1         1                 1             0            1         1   \n",
       "2         1                 1             0            0         0   \n",
       "3         0                 1             0            0         1   \n",
       "4         0                 1             0            0         0   \n",
       "\n",
       "   USE_CREDENTIALS  MANAGE_ACCOUNTS  WRITE_SMS  READ_SYNC_SETTINGS  \\\n",
       "0                0                0          0                   0   \n",
       "1                0                0          0                   0   \n",
       "2                0                0          0                   0   \n",
       "3                0                0          1                   0   \n",
       "4                0                0          0                   0   \n",
       "\n",
       "   AUTHENTICATE_ACCOUNTS  ...  READ_CONTACTS  DEVICE_POWER  HARDWARE_TEST  \\\n",
       "0                      0  ...              0             0              0   \n",
       "1                      0  ...              0             0              0   \n",
       "2                      0  ...              0             0              0   \n",
       "3                      0  ...              0             0              0   \n",
       "4                      0  ...              0             0              0   \n",
       "\n",
       "   ACCESS_WIFI_STATE  WRITE_EXTERNAL_STORAGE  ACCESS_FINE_LOCATION  \\\n",
       "0                  0                       1                     0   \n",
       "1                  0                       1                     0   \n",
       "2                  0                       0                     0   \n",
       "3                  1                       1                     1   \n",
       "4                  1                       0                     1   \n",
       "\n",
       "   SET_WALLPAPER_HINTS  SET_PREFERRED_APPLICATIONS  WRITE_SECURE_SETTINGS  \\\n",
       "0                    0                           0                      0   \n",
       "1                    0                           0                      0   \n",
       "2                    0                           0                      0   \n",
       "3                    0                           0                      0   \n",
       "4                    0                           0                      0   \n",
       "\n",
       "   class  \n",
       "0      1  \n",
       "1      1  \n",
       "2      1  \n",
       "3      1  \n",
       "4      1  \n",
       "\n",
       "[5 rows x 114 columns]"
      ]
     },
     "execution_count": 26,
     "metadata": {},
     "output_type": "execute_result"
    }
   ],
   "source": [
    "ds.head()\n"
   ]
  },
  {
   "cell_type": "markdown",
   "id": "480d2c1a",
   "metadata": {},
   "source": [
    "<h2> Training Data"
   ]
  },
  {
   "cell_type": "code",
   "execution_count": 39,
   "id": "ffee8b6b",
   "metadata": {},
   "outputs": [],
   "source": [
    "from itertools import count\n",
    "\n",
    "def a (permission,class_id,ds):\n",
    "    ds_class = ds[ds[\"class\"] == class_id]\n",
    "    return len(ds_class[permission][ds_class[permission] == 1])\n",
    "\n",
    "def b (permission, class_id,ds):\n",
    "    ds_class = ds[ds[\"class\"] == class_id]\n",
    "    return len(ds_class[permission][ds_class[permission] != 1])\n",
    "\n",
    "def c (permission_id,class_id,ds):\n",
    "    ds_class = ds[ds[\"class\"] != class_id]\n",
    "    return len(ds_class[permission_id][ds_class[permission_id] == 1])\n",
    "\n",
    "def d (permission_id,class_id,ds):\n",
    "    ds_class = ds[ds[\"class\"] != class_id]\n",
    "    return len(ds_class[permission_id][ds_class[permission_id] != 1])\n",
    "\n",
    "def N ():\n",
    "    return ds.shape[0]\n",
    "\n",
    "def n1(class_id, ds):\n",
    "    ds_class = ds[ds['class'] == class_id]\n",
    "    return len(ds_class)\n",
    "\n",
    "def n2(class_id, ds):\n",
    "    ds_class = ds[ds['class'] != class_id]\n",
    "    return len(ds_class)\n",
    "\n",
    "def d1(permission, ds):\n",
    "    ds_permission = ds[ds[permission] == 1]\n",
    "    return len(ds_permission)\n",
    "\n",
    "def d2(permission, ds):\n",
    "    ds_permission = ds[ds[permission] != 1]\n",
    "    return len(ds_permission)\n",
    "\n",
    "best_features = []"
   ]
  },
  {
   "cell_type": "markdown",
   "id": "80cf9311-87b1-4010-8a96-41345785ef0a",
   "metadata": {},
   "source": [
    "<h3> Odds ratio"
   ]
  },
  {
   "cell_type": "code",
   "execution_count": 31,
   "id": "08ed93ad",
   "metadata": {},
   "outputs": [
    {
     "name": "stdout",
     "output_type": "stream",
     "text": [
      "['READ_PHONE_STATE', 'RECEIVE_SMS', 'READ_SMS', 'INSTALL_PACKAGES', 'WRITE_APN_SETTINGS', 'DELETE_CACHE_FILES', 'WRITE_HISTORY_BOOKMARKS', 'ACCESS_LOCATION_EXTRA_COMMANDS', 'WRITE_SMS', 'UPDATE_DEVICE_STATS']\n"
     ]
    }
   ],
   "source": [
    "def od(permission_id,class_id,ds):\n",
    "    return (a(permission_id,class_id,ds) * d(permission_id,class_id,ds)) / (b(permission_id,class_id,ds) * c(permission_id,class_id,ds))\n",
    "\n",
    "#use this to get the list of permissions and put in a list the 10 most important\n",
    "def get_od_list(class_id, ds):\n",
    "    od_list = []\n",
    "    for permission in ds.columns[1:-1]:\n",
    "        od_list.append([permission, od(permission, class_id, ds)])\n",
    "    return od_list\n",
    "\n",
    "list = get_od_list(1,ds)\n",
    "list.sort(key=lambda x: x[1], reverse=True)\n",
    "#aappend in best features the 10 most important if not already in\n",
    "for i in range(10):\n",
    "    if list[i][0] not in best_features:\n",
    "        best_features.append(list[i][0])\n",
    "print(best_features)\n"
   ]
  },
  {
   "cell_type": "markdown",
   "id": "a129fbfe",
   "metadata": {},
   "source": [
    "<h3> Chi-Square"
   ]
  },
  {
   "cell_type": "code",
   "execution_count": 32,
   "id": "29bce049",
   "metadata": {},
   "outputs": [
    {
     "name": "stdout",
     "output_type": "stream",
     "text": [
      "['READ_PHONE_STATE', 'RECEIVE_SMS', 'READ_SMS', 'INSTALL_PACKAGES', 'WRITE_APN_SETTINGS', 'DELETE_CACHE_FILES', 'WRITE_HISTORY_BOOKMARKS', 'ACCESS_LOCATION_EXTRA_COMMANDS', 'WRITE_SMS', 'UPDATE_DEVICE_STATS', 'GET_ACCOUNTS', 'MANAGE_ACCOUNTS', 'USE_CREDENTIALS', 'READ_HISTORY_BOOKMARKS']\n"
     ]
    }
   ],
   "source": [
    "def chi_squared(permission_id,class_id,ds):\n",
    "    aa = a(permission_id,class_id,ds)\n",
    "    bb = b(permission_id,class_id,ds)\n",
    "    cc = c(permission_id,class_id,ds)\n",
    "    dd = d(permission_id,class_id,ds)\n",
    "    return (((aa*dd - bb*cc)**2) / ((aa+bb)*(cc+dd)*(aa+cc)*(bb+dd)))\n",
    "    \n",
    "\n",
    "def get_chi_squared_list(class_id, ds):\n",
    "    chi_squared_list = []\n",
    "    for permission in ds.columns[1:-1]:\n",
    "        chi_squared_list.append([permission, chi_squared(permission, class_id, ds)])\n",
    "    return chi_squared_list\n",
    "\n",
    "list = get_chi_squared_list(1,ds)\n",
    "list.sort(key=lambda x: x[1], reverse=True)\n",
    "for i in range(10):\n",
    "    if list[i][0] not in best_features:\n",
    "        best_features.append(list[i][0])\n",
    "print(best_features)"
   ]
  },
  {
   "cell_type": "markdown",
   "id": "65525ea8",
   "metadata": {},
   "source": [
    "<h3> Inverse Document Frequency"
   ]
  },
  {
   "cell_type": "code",
   "execution_count": 33,
   "id": "e41621d7",
   "metadata": {},
   "outputs": [
    {
     "name": "stdout",
     "output_type": "stream",
     "text": [
      "['READ_PHONE_STATE', 'RECEIVE_SMS', 'READ_SMS', 'INSTALL_PACKAGES', 'WRITE_APN_SETTINGS', 'DELETE_CACHE_FILES', 'WRITE_HISTORY_BOOKMARKS', 'ACCESS_LOCATION_EXTRA_COMMANDS', 'WRITE_SMS', 'UPDATE_DEVICE_STATS', 'GET_ACCOUNTS', 'MANAGE_ACCOUNTS', 'USE_CREDENTIALS', 'READ_HISTORY_BOOKMARKS', 'BIND_VPN_SERVICE', 'SET_ACTIVITY_WATCHER', 'BIND_TEXT_SERVICE', 'ADD_VOICEMAIL', 'INSTALL_LOCATION_PROVIDER', 'SET_PROCESS_LIMIT', 'MOUNT_FORMAT_FILESYSTEMS', 'BIND_ACCESSIBILITY_SERVICE', 'ACCESS_SURFACE_FLINGER', 'CLEAR_APP_USER_DATA']\n"
     ]
    }
   ],
   "source": [
    "def idf(permission_id,class_id,ds):\n",
    "    return np.log(N() / (a(permission_id,class_id,ds) + c(permission_id,class_id,ds)))\n",
    "\n",
    "def get_idf_list(class_id, ds):\n",
    "    idf_list = []\n",
    "    for permission in ds.columns[1:-1]:\n",
    "        idf_list.append([permission, idf(permission, class_id, ds)])\n",
    "    return idf_list\n",
    "\n",
    "list = get_idf_list(1,ds)\n",
    "list.sort(key=lambda x: x[1], reverse=True)\n",
    "for i in range(10):\n",
    "    if list[i][0] not in best_features:\n",
    "        best_features.append(list[i][0])\n",
    "print(best_features)"
   ]
  },
  {
   "cell_type": "markdown",
   "id": "a2ac0167",
   "metadata": {},
   "source": [
    "<h3> Document Frequency Threshold"
   ]
  },
  {
   "cell_type": "code",
   "execution_count": 34,
   "id": "7709c867",
   "metadata": {},
   "outputs": [
    {
     "name": "stdout",
     "output_type": "stream",
     "text": [
      "['READ_PHONE_STATE', 'RECEIVE_SMS', 'READ_SMS', 'INSTALL_PACKAGES', 'WRITE_APN_SETTINGS', 'DELETE_CACHE_FILES', 'WRITE_HISTORY_BOOKMARKS', 'ACCESS_LOCATION_EXTRA_COMMANDS', 'WRITE_SMS', 'UPDATE_DEVICE_STATS', 'GET_ACCOUNTS', 'MANAGE_ACCOUNTS', 'USE_CREDENTIALS', 'READ_HISTORY_BOOKMARKS', 'BIND_VPN_SERVICE', 'SET_ACTIVITY_WATCHER', 'BIND_TEXT_SERVICE', 'ADD_VOICEMAIL', 'INSTALL_LOCATION_PROVIDER', 'SET_PROCESS_LIMIT', 'MOUNT_FORMAT_FILESYSTEMS', 'BIND_ACCESSIBILITY_SERVICE', 'ACCESS_SURFACE_FLINGER', 'CLEAR_APP_USER_DATA', 'INTERNET', 'ACCESS_NETWORK_STATE', 'WRITE_EXTERNAL_STORAGE', 'WAKE_LOCK', 'ACCESS_WIFI_STATE', 'RECEIVE_BOOT_COMPLETED', 'VIBRATE', 'ACCESS_FINE_LOCATION']\n"
     ]
    }
   ],
   "source": [
    "def dft(permission_id,class_id,ds):\n",
    "    return a(permission_id,class_id,ds) + c(permission_id,class_id,ds)\n",
    "\n",
    "def get_dft_list(class_id, ds):\n",
    "    dft_list = []\n",
    "    for permission in ds.columns[1:-1]:\n",
    "        dft_list.append([permission, dft(permission, class_id, ds)])\n",
    "    return dft_list\n",
    "\n",
    "list = get_dft_list(1,ds)\n",
    "list.sort(key=lambda x: x[1], reverse=True)\n",
    "for i in range(10):\n",
    "    if list[i][0] not in best_features:\n",
    "        best_features.append(list[i][0])\n",
    "print(best_features)"
   ]
  },
  {
   "cell_type": "markdown",
   "id": "c596c806",
   "metadata": {},
   "source": [
    "<h3> Acc and Acc2"
   ]
  },
  {
   "cell_type": "code",
   "execution_count": 38,
   "id": "b3f911e9",
   "metadata": {},
   "outputs": [
    {
     "name": "stdout",
     "output_type": "stream",
     "text": [
      "['READ_PHONE_STATE', 'RECEIVE_SMS', 'READ_SMS', 'INSTALL_PACKAGES', 'WRITE_APN_SETTINGS', 'DELETE_CACHE_FILES', 'WRITE_HISTORY_BOOKMARKS', 'ACCESS_LOCATION_EXTRA_COMMANDS', 'WRITE_SMS', 'UPDATE_DEVICE_STATS', 'GET_ACCOUNTS', 'MANAGE_ACCOUNTS', 'USE_CREDENTIALS', 'READ_HISTORY_BOOKMARKS', 'BIND_VPN_SERVICE', 'SET_ACTIVITY_WATCHER', 'BIND_TEXT_SERVICE', 'ADD_VOICEMAIL', 'INSTALL_LOCATION_PROVIDER', 'SET_PROCESS_LIMIT', 'MOUNT_FORMAT_FILESYSTEMS', 'BIND_ACCESSIBILITY_SERVICE', 'ACCESS_SURFACE_FLINGER', 'CLEAR_APP_USER_DATA', 'INTERNET', 'ACCESS_NETWORK_STATE', 'WRITE_EXTERNAL_STORAGE', 'WAKE_LOCK', 'ACCESS_WIFI_STATE', 'RECEIVE_BOOT_COMPLETED', 'VIBRATE', 'ACCESS_FINE_LOCATION', 'RESTART_PACKAGES']\n",
      "['READ_PHONE_STATE', 'RECEIVE_SMS', 'READ_SMS', 'INSTALL_PACKAGES', 'WRITE_APN_SETTINGS', 'DELETE_CACHE_FILES', 'WRITE_HISTORY_BOOKMARKS', 'ACCESS_LOCATION_EXTRA_COMMANDS', 'WRITE_SMS', 'UPDATE_DEVICE_STATS', 'GET_ACCOUNTS', 'MANAGE_ACCOUNTS', 'USE_CREDENTIALS', 'READ_HISTORY_BOOKMARKS', 'BIND_VPN_SERVICE', 'SET_ACTIVITY_WATCHER', 'BIND_TEXT_SERVICE', 'ADD_VOICEMAIL', 'INSTALL_LOCATION_PROVIDER', 'SET_PROCESS_LIMIT', 'MOUNT_FORMAT_FILESYSTEMS', 'BIND_ACCESSIBILITY_SERVICE', 'ACCESS_SURFACE_FLINGER', 'CLEAR_APP_USER_DATA', 'INTERNET', 'ACCESS_NETWORK_STATE', 'WRITE_EXTERNAL_STORAGE', 'WAKE_LOCK', 'ACCESS_WIFI_STATE', 'RECEIVE_BOOT_COMPLETED', 'VIBRATE', 'ACCESS_FINE_LOCATION', 'RESTART_PACKAGES']\n"
     ]
    }
   ],
   "source": [
    "def acc(permission_id,class_id,ds):\n",
    "    return a(permission_id,class_id,ds) - c(permission_id,class_id,ds)\n",
    "\n",
    "def acc2(permission_id,class_id,ds):\n",
    "    return (a(permission_id,class_id,ds)/n1(class_id,ds)) - (c(permission_id,class_id,ds)/n2(class_id,ds))\n",
    "\n",
    "def get_acc_list(class_id, ds):\n",
    "    acc_list = []\n",
    "    for permission in ds.columns[1:-1]:\n",
    "        acc_list.append([permission, acc(permission, class_id, ds)])\n",
    "    return acc_list\n",
    "\n",
    "list = get_acc_list(1,ds)\n",
    "list.sort(key=lambda x: x[1], reverse=True)\n",
    "for i in range(10):\n",
    "    if list[i][0] not in best_features:\n",
    "        best_features.append(list[i][0])\n",
    "print(best_features)\n",
    "\n",
    "def get_acc2_list(class_id, ds):\n",
    "    acc2_list = []\n",
    "    for permission in ds.columns[1:-1]:\n",
    "        acc2_list.append([permission, acc2(permission, class_id, ds)])\n",
    "    return acc2_list\n",
    "\n",
    "list = get_acc2_list(1,ds)\n",
    "list.sort(key=lambda x: x[1], reverse=True)\n",
    "for i in range(10):\n",
    "    if list[i][0] not in best_features:\n",
    "        best_features.append(list[i][0])\n",
    "print(best_features)"
   ]
  },
  {
   "cell_type": "markdown",
   "id": "2f2019c7",
   "metadata": {},
   "source": [
    "<h3> M2 Method"
   ]
  },
  {
   "cell_type": "code",
   "execution_count": 41,
   "id": "e0c49c64",
   "metadata": {},
   "outputs": [
    {
     "name": "stdout",
     "output_type": "stream",
     "text": [
      "['READ_PHONE_STATE', 'INTERNET', 'GET_ACCOUNTS', 'RECEIVE_SMS', 'READ_SMS', 'ACCESS_NETWORK_STATE', 'WAKE_LOCK', 'RECEIVE_BOOT_COMPLETED', 'WRITE_SMS', 'MANAGE_ACCOUNTS']\n"
     ]
    }
   ],
   "source": [
    "def m2(permission_id,class_id,ds):\n",
    "    return dft(permission_id,class_id,ds) * (np.absolute(a(permission_id,class_id,ds)/d1(permission_id,ds) - (b(permission_id,class_id,ds)/d2(permission_id,ds))))\n",
    "\n",
    "def get_m2_list(class_id, ds):\n",
    "    m2_list = []\n",
    "    for permission in ds.columns[1:-1]:\n",
    "        m2_list.append([permission, m2(permission, class_id, ds)])\n",
    "    return m2_list\n",
    "\n",
    "list = get_m2_list(1,ds)\n",
    "list.sort(key=lambda x: x[1], reverse=True)\n",
    "for i in range(10):\n",
    "    if list[i][0] not in best_features:\n",
    "        best_features.append(list[i][0])\n",
    "print(best_features)"
   ]
  },
  {
   "cell_type": "markdown",
   "id": "ebf81524",
   "metadata": {},
   "source": [
    "<h3> Relevance frequency feature selection"
   ]
  },
  {
   "cell_type": "code",
   "execution_count": 43,
   "id": "da57e3a4",
   "metadata": {},
   "outputs": [
    {
     "name": "stdout",
     "output_type": "stream",
     "text": [
      "['READ_PHONE_STATE', 'INTERNET', 'GET_ACCOUNTS', 'RECEIVE_SMS', 'READ_SMS', 'ACCESS_NETWORK_STATE', 'WAKE_LOCK', 'RECEIVE_BOOT_COMPLETED', 'WRITE_SMS', 'MANAGE_ACCOUNTS', 'WRITE_EXTERNAL_STORAGE', 'ACCESS_WIFI_STATE', 'VIBRATE']\n"
     ]
    }
   ],
   "source": [
    "def rffs(permission_id,class_id,ds):\n",
    "    return dft(permission_id,class_id,ds) * np.absolute(np.log(2 + (a(permission_id,class_id,ds)/c(permission_id,class_id,ds))))\n",
    "\n",
    "def get_rffs_list(class_id, ds):\n",
    "    rffs_list = []\n",
    "    for permission in ds.columns[1:-1]:\n",
    "        rffs_list.append([permission, rffs(permission, class_id, ds)])\n",
    "    return rffs_list\n",
    "\n",
    "list = get_rffs_list(1,ds)\n",
    "list.sort(key=lambda x: x[1], reverse=True)\n",
    "for i in range(10):\n",
    "    if list[i][0] not in best_features:\n",
    "        best_features.append(list[i][0])\n",
    "print(best_features)"
   ]
  },
  {
   "cell_type": "markdown",
   "id": "aaead231",
   "metadata": {},
   "source": [
    "<h3> Information Gain"
   ]
  },
  {
   "cell_type": "code",
   "execution_count": 21,
   "id": "278d803a",
   "metadata": {},
   "outputs": [],
   "source": [
    "def pci(class_id,ds):\n",
    "    return len(ds[ds[\"class\"] == class_id])/len(ds)\n",
    "\n",
    "def pp(permission_id,ds):\n",
    "    return len(ds[ds[permission_id] == 1])/len(ds)\n",
    "\n",
    "def pcip(permission_id,class_id,ds,is_used=True):\n",
    "    ds_class = ds[ds[\"class\"] == class_id]\n",
    "    if is_used:\n",
    "        return len(ds_class[ds_class[permission_id] == 1])/len(ds_class)\n",
    "    else:\n",
    "        return len(ds_class[ds_class[permission_id] == 0])/len(ds_class)"
   ]
  },
  {
   "cell_type": "code",
   "execution_count": 22,
   "id": "e470d634",
   "metadata": {},
   "outputs": [
    {
     "data": {
      "text/html": [
       "<div>\n",
       "<style scoped>\n",
       "    .dataframe tbody tr th:only-of-type {\n",
       "        vertical-align: middle;\n",
       "    }\n",
       "\n",
       "    .dataframe tbody tr th {\n",
       "        vertical-align: top;\n",
       "    }\n",
       "\n",
       "    .dataframe thead th {\n",
       "        text-align: right;\n",
       "    }\n",
       "</style>\n",
       "<table border=\"1\" class=\"dataframe\">\n",
       "  <thead>\n",
       "    <tr style=\"text-align: right;\">\n",
       "      <th></th>\n",
       "      <th>permission</th>\n",
       "      <th>ig</th>\n",
       "    </tr>\n",
       "  </thead>\n",
       "  <tbody>\n",
       "    <tr>\n",
       "      <th>0</th>\n",
       "      <td>TelephonyManager.getNetworkOperator</td>\n",
       "      <td>1.992913</td>\n",
       "    </tr>\n",
       "    <tr>\n",
       "      <th>0</th>\n",
       "      <td>ACCESS_WIFI_STATE</td>\n",
       "      <td>1.982152</td>\n",
       "    </tr>\n",
       "    <tr>\n",
       "      <th>0</th>\n",
       "      <td>HttpPost.init</td>\n",
       "      <td>1.976764</td>\n",
       "    </tr>\n",
       "    <tr>\n",
       "      <th>0</th>\n",
       "      <td>WAKE_LOCK</td>\n",
       "      <td>1.974976</td>\n",
       "    </tr>\n",
       "    <tr>\n",
       "      <th>0</th>\n",
       "      <td>TelephonyManager.getDeviceId</td>\n",
       "      <td>1.956541</td>\n",
       "    </tr>\n",
       "    <tr>\n",
       "      <th>0</th>\n",
       "      <td>Ljava.lang.Class.getResource</td>\n",
       "      <td>1.944029</td>\n",
       "    </tr>\n",
       "    <tr>\n",
       "      <th>0</th>\n",
       "      <td>mount</td>\n",
       "      <td>1.941607</td>\n",
       "    </tr>\n",
       "    <tr>\n",
       "      <th>0</th>\n",
       "      <td>RECEIVE_BOOT_COMPLETED</td>\n",
       "      <td>1.940548</td>\n",
       "    </tr>\n",
       "    <tr>\n",
       "      <th>0</th>\n",
       "      <td>HttpGet.init</td>\n",
       "      <td>1.930725</td>\n",
       "    </tr>\n",
       "    <tr>\n",
       "      <th>0</th>\n",
       "      <td>Ljava.lang.Class.getMethod</td>\n",
       "      <td>1.929746</td>\n",
       "    </tr>\n",
       "  </tbody>\n",
       "</table>\n",
       "</div>"
      ],
      "text/plain": [
       "                            permission        ig\n",
       "0  TelephonyManager.getNetworkOperator  1.992913\n",
       "0                    ACCESS_WIFI_STATE  1.982152\n",
       "0                        HttpPost.init  1.976764\n",
       "0                            WAKE_LOCK  1.974976\n",
       "0         TelephonyManager.getDeviceId  1.956541\n",
       "0         Ljava.lang.Class.getResource  1.944029\n",
       "0                                mount  1.941607\n",
       "0               RECEIVE_BOOT_COMPLETED  1.940548\n",
       "0                         HttpGet.init  1.930725\n",
       "0           Ljava.lang.Class.getMethod  1.929746"
      ]
     },
     "execution_count": 22,
     "metadata": {},
     "output_type": "execute_result"
    }
   ],
   "source": [
    "def ig(permission_id,ds):\n",
    "    class_distribution = ds[\"class\"].value_counts()\n",
    "    a = b = c = 0.0\n",
    "    for i in class_distribution.index:\n",
    "        f_value = pci(i,ds)\n",
    "        if f_value > 0.0:\n",
    "            a += f_value * np.log2(f_value)\n",
    "        f_value = pcip(permission_id,i,ds)\n",
    "        if f_value > 0.0:\n",
    "            b += f_value * np.log2(f_value)\n",
    "        f_value = pcip(permission_id,i,ds,False)\n",
    "        if f_value > 0.0:\n",
    "            c += f_value * np.log2(f_value)\n",
    "    b *= pp(permission_id,ds)\n",
    "    c *= (1.0 - pp(permission_id,ds))\n",
    "    return -1.0 * (a + b + c)\n",
    "\n",
    "ig_df = pd.DataFrame(columns=[\"permission\", \"ig\"])\n",
    "for i in ds.columns:\n",
    "    if i != \"class\":\n",
    "        ig_df = pd.concat([ig_df, pd.DataFrame([[i, ig(i,ds)]], columns=[\"permission\", \"ig\"])])\n",
    "ig_df.sort_values(by=\"ig\", ascending=False).head(10)"
   ]
  },
  {
   "cell_type": "code",
   "execution_count": 23,
   "id": "c9f2ac4c",
   "metadata": {},
   "outputs": [
    {
     "data": {
      "image/png": "[encoded data removed]",
      "text/plain": [
       "<Figure size 432x288 with 1 Axes>"
      ]
     },
     "metadata": {
      "needs_background": "light"
     },
     "output_type": "display_data"
    }
   ],
   "source": [
    "def show_ig_graph():\n",
    "    ig_df.sort_values(by=\"ig\", ascending=False, inplace=True)\n",
    "    ig_df.head(10).plot(x=\"permission\", y=\"ig\", kind=\"bar\")\n",
    "    plt.title(\"IG\")\n",
    "    plt.show()\n",
    "\n",
    "show_ig_graph()"
   ]
  },
  {
   "cell_type": "code",
   "execution_count": null,
   "id": "2fab7d54",
   "metadata": {},
   "outputs": [],
   "source": []
  }
 ],
 "metadata": {
  "kernelspec": {
   "display_name": "Python 3.9.12 ('base')",
   "language": "python",
   "name": "python3"
  },
  "language_info": {
   "codemirror_mode": {
    "name": "ipython",
    "version": 3
   },
   "file_extension": ".py",
   "mimetype": "text/x-python",
   "name": "python",
   "nbconvert_exporter": "python",
   "pygments_lexer": "ipython3",
   "version": "3.9.12"
  },
  "vscode": {
   "interpreter": {
    "hash": "ad2bdc8ecc057115af97d19610ffacc2b4e99fae6737bb82f5d7fb13d2f2c186"
   }
  }
 },
 "nbformat": 4,
 "nbformat_minor": 5
}
